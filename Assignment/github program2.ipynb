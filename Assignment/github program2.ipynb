{
 "cells": [
  {
   "cell_type": "code",
   "execution_count": 4,
   "id": "6d4cd0e0",
   "metadata": {},
   "outputs": [],
   "source": [
    "import csv"
   ]
  },
  {
   "cell_type": "code",
   "execution_count": 10,
   "id": "55e60202",
   "metadata": {},
   "outputs": [
    {
     "name": "stdout",
     "output_type": "stream",
     "text": [
      "['sid', 'sname', 'sub1', 'sub2', 'sub3', 'sub4', 'sub5']\n",
      "['1', 'om', '78', '87', '89', '67', '78']\n",
      "['2', 'sai', '88', '80', '92', '75', '78']\n",
      "['3', 'ram', '60', '55', '88', '86', '88']\n",
      "['4', 'radha', '60', '50', '80', '86', '67']\n",
      "['5', 'shyam', '90', '55', '60', '68', '76']\n",
      "['6', 'rudra', '87', '55', '87', '69', '76']\n",
      "['7', 'kashi', '87', '87', '90', '60', '70']\n",
      "['8', 'prarabdh', '95', '87', '80', '78', '80']\n",
      "['10', 'anjali', '96', '92', '90', '88', '85']\n"
     ]
    }
   ],
   "source": [
    "f=open(\"D:\\\\23BCA284\\\\sqlite3\\\\csv\\\\result.csv\",\"r\") \n",
    "r=csv.reader(f)\n",
    "for i in r:\n",
    "    print(i)"
   ]
  },
  {
   "cell_type": "code",
   "execution_count": 11,
   "id": "848520b4",
   "metadata": {},
   "outputs": [],
   "source": [
    "f.close()"
   ]
  },
  {
   "cell_type": "markdown",
   "id": "7b5f478c",
   "metadata": {},
   "source": [
    "## print marksheet"
   ]
  },
  {
   "cell_type": "code",
   "execution_count": 7,
   "id": "8f1d729f",
   "metadata": {},
   "outputs": [
    {
     "name": "stdout",
     "output_type": "stream",
     "text": [
      "sid: 1\t   Name: om\t   Total: 399.0\t    Percentage: 79.8\n",
      "sid: 2\t   Name: sai\t   Total: 413.0\t    Percentage: 82.6\n",
      "sid: 3\t   Name: ram\t   Total: 377.0\t    Percentage: 75.4\n",
      "sid: 4\t   Name: radha\t   Total: 343.0\t    Percentage: 68.6\n",
      "sid: 5\t   Name: shyam\t   Total: 349.0\t    Percentage: 69.8\n",
      "sid: 6\t   Name: rudra\t   Total: 374.0\t    Percentage: 74.8\n",
      "sid: 7\t   Name: kashi\t   Total: 394.0\t    Percentage: 78.8\n",
      "sid: 8\t   Name: prarabdh\t   Total: 420.0\t    Percentage: 84.0\n",
      "sid: 10\t   Name: anjali\t   Total: 451.0\t    Percentage: 90.2\n"
     ]
    }
   ],
   "source": [
    "with open('D:\\\\23BCA284\\\\sqlite3\\\\csv\\\\result.csv','r') as f:\n",
    "    reader = csv.DictReader(f)\n",
    "    for i in reader:\n",
    "        i1=float(i['sub1'])\n",
    "        i2=float(i['sub2'])\n",
    "        i3=float(i['sub3'])\n",
    "        i4=float(i['sub4'])\n",
    "        i5=float(i['sub5'])\n",
    "        total=i1+i2+i3+i4+i5\n",
    "        per=total/5\n",
    "        print(f\"sid: {i['sid']}\\t   Name: {i['sname']}\\t   Total: {total}\\t    Percentage: {per}\")\n",
    "          "
   ]
  },
  {
   "cell_type": "code",
   "execution_count": null,
   "id": "7553580b",
   "metadata": {},
   "outputs": [],
   "source": []
  }
 ],
 "metadata": {
  "kernelspec": {
   "display_name": "Python 3 (ipykernel)",
   "language": "python",
   "name": "python3"
  },
  "language_info": {
   "codemirror_mode": {
    "name": "ipython",
    "version": 3
   },
   "file_extension": ".py",
   "mimetype": "text/x-python",
   "name": "python",
   "nbconvert_exporter": "python",
   "pygments_lexer": "ipython3",
   "version": "3.12.1"
  }
 },
 "nbformat": 4,
 "nbformat_minor": 5
}
